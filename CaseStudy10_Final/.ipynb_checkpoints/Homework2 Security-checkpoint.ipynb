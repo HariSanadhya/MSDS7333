{
 "cells": [
  {
   "cell_type": "code",
   "execution_count": null,
   "metadata": {},
   "outputs": [],
   "source": [
    "# CSE 142 Python sessions\n",
    "# This program creates a secret message using a simple encryption algorithm\n",
    "# called a Caesar cipher, which shifts each letter ahead by 3 places.\n",
    "# The program can also decode an encoded message using the opposite algorithm.\n",
    "#\n",
    "# Sample log of execution:\n",
    "# Your message to encode? Attack the zombies at dawn!\n",
    "# The encoded message is: dwwdfn wkh crpelhv dw gdzq!\n",
    "\n",
    "# A helper that can perform either encryption or decryption, shifting every\n",
    "# letter by the given number of places, wrapping around as necessary.\n",
    "def helper(message, shift):\n",
    "\tmessage = message.lower()\n",
    "\tsecret = \"\"\n",
    "\tfor c in message:\n",
    "\t\tif c in \"abcdefghijklmnopqrstuvwxyz\":\n",
    "\t\t\tnum = ord(c)\n",
    "\t\t\tnum += shift\n",
    "\t\t\tif num > ord(\"z\"):     # wrap if necessary\n",
    "\t\t\t\tnum -= 26\n",
    "\t\t\telif num < ord(\"a\"):\n",
    "\t\t\t\tnum += 26\n",
    "\t\t\tsecret = secret + chr(num)\n",
    "\t\telse:\n",
    "\t\t\t# don't modify any non-letters in the message; just add them as-is\n",
    "\t\t\tsecret = secret + c\n",
    "\treturn secret\n",
    "\n",
    "# Encrypts the given string using a Caesar cipher and returns the result.\n",
    "def encrypt(message, shift):\n",
    "\treturn helper(message, shift)\n",
    "\n",
    "# Decrypts a string that was previously encrypted using a Caesar cipher and returns the result.\n",
    "def decrypt(message, shift):\n",
    "\treturn helper(message, -1*shift)\n",
    "\n",
    "\n",
    "# main program\n",
    "encodedPhrase = input(\"Enter sentence to encrypt:\")\n",
    "shiftValue = input(\"Enter shift value:\")\n",
    "if len(encodedPhrase) > 0:\n",
    "\t# wants to encrypt\n",
    "\tsecret = encrypt(encodedPhrase, shiftValue)\n",
    "\tprint(\"The encoded message is:\", secret)\n",
    "else:\n",
    "\t# empty message; wants to decrypt\n",
    "\tsecret = input(\"Your message to decode? \")\n",
    "\tif len(secret) > 0:\n",
    "\t\tmsg = decrypt(secret)\n",
    "\t\tprint(\"The decoded message is:\", msg)"
   ]
  },
  {
   "cell_type": "code",
   "execution_count": 1,
   "metadata": {},
   "outputs": [
    {
     "name": "stdout",
     "output_type": "stream",
     "text": [
      "97 a\n"
     ]
    }
   ],
   "source": [
    "import pandas as pd\n",
    "import numpy as np\n",
    "\n",
    "letter = 'a';\n",
    "# Converts letters to ASCII Code\n",
    "asciiCode = ord(letter)\n",
    "\n",
    "#Converts ASCII code to a letter\n",
    "letterRes = chr(asciiCode)\n",
    "af = 0\n",
    "# Print Results\n",
    "print(asciiCode, letterRes)"
   ]
  },
  {
   "cell_type": "code",
   "execution_count": null,
   "metadata": {},
   "outputs": [],
   "source": []
  },
  {
   "cell_type": "code",
   "execution_count": 6,
   "metadata": {},
   "outputs": [
    {
     "name": "stdout",
     "output_type": "stream",
     "text": [
      "Sentence to encode: How much wood could a woodchuck chuck if a woodchuck could chuck wood?\n",
      "Shift Value : 12\n"
     ]
    }
   ],
   "source": [
    "#Request sentence to encrypt/decrypt, along with shift value for encryption/decryption\n",
    "phrase = input('Sentence to encode: ')\n",
    "shiftValue = int(input('Shift Value : '))"
   ]
  },
  {
   "cell_type": "code",
   "execution_count": 8,
   "metadata": {},
   "outputs": [
    {
     "name": "stdout",
     "output_type": "stream",
     "text": [
      "The encoded phrase is: How much wood could a woodchuck chuck if a woodchuck could chuck wood?\n"
     ]
    }
   ],
   "source": [
    "#Create empty string variable, then run through a for loop for each character in the entered\n",
    "#phrase (we will add function to perform on character later), then add each character in order to empty string\n",
    "encodedPhrase = \"\"\n",
    "for c in phrase:\n",
    "    encodedPhrase = encodedPhrase + c\n",
    "print (\"The encoded phrase is:\", encodedPhrase)"
   ]
  },
  {
   "cell_type": "code",
   "execution_count": null,
   "metadata": {},
   "outputs": [],
   "source": []
  },
  {
   "cell_type": "code",
   "execution_count": 9,
   "metadata": {},
   "outputs": [
    {
     "name": "stdout",
     "output_type": "stream",
     "text": [
      "The encoded phrase is: Xxx xxxx xxxx xxxxx x xxxxxxxxx xxxxx xx x xxxxxxxxx xxxxx xxxxx xxxx?\n"
     ]
    }
   ],
   "source": [
    "\n",
    "encodedPhrase = \"\"\n",
    "for i in phrase:\n",
    "    #Checks if character is lower case, if so, then replace with x\n",
    "    if i in \"abcdefghijklmnopqrstuvwxyz\":\n",
    "        i = 'x'\n",
    "\n",
    "    #Checks if character is upper case, if so, then replace with X\n",
    "    if i in \"ABCDEFGHIJKLMNOPQRSTUVWXYZ\":\n",
    "        i = 'X'\n",
    "    #Adds character to string variable\n",
    "    encodedPhrase = encodedPhrase + i\n",
    "\n",
    "print (\"The encoded phrase is:\", encodedPhrase)"
   ]
  },
  {
   "cell_type": "code",
   "execution_count": null,
   "metadata": {},
   "outputs": [],
   "source": []
  },
  {
   "cell_type": "code",
   "execution_count": 11,
   "metadata": {},
   "outputs": [
    {
     "name": "stdout",
     "output_type": "stream",
     "text": [
      "The encoded phrase is: Tai ygot iaap oagxp m iaapotgow otgow ur m iaapotgow oagxp otgow iaap?\n"
     ]
    }
   ],
   "source": [
    "\n",
    "encodedPhrase = \"\"\n",
    "for i in phrase:\n",
    "    #Checks to see if character is lower case \n",
    "    #changes ascii value to decimal and subtracts the base value 97,\n",
    "    #then adds shift value. Next performs modulos 26 operation on the\n",
    "    #value i and adds back the base value and converts back to ascii\n",
    "    if i in \"abcdefghijklmnopqrstuvwxyz\":\n",
    "        i = (ord(i) - 97 + shiftValue)\n",
    "        i = chr(i%26 + 97)\n",
    "\n",
    "    # Performs the same function as above but for capital letters\n",
    "    if i in \"ABCDEFGHIJKLMNOPQRSTUVWXYZ\":\n",
    "        i = (ord(i) - 65 + shiftValue)\n",
    "        i = chr(i%26 + 65)\n",
    "    encodedPhrase = encodedPhrase + i\n",
    "print (\"The encoded phrase is:\", encodedPhrase)"
   ]
  },
  {
   "cell_type": "code",
   "execution_count": 12,
   "metadata": {},
   "outputs": [],
   "source": [
    "def decryptFunction(encodedPhrase):\n",
    "    finalPhrase = []\n",
    "    for j in range(0,25):\n",
    "        uncodedPhrase = \"\"\n",
    "        for i in encodedPhrase:\n",
    "   \n",
    "            if i in \"abcdefghijklmnopqrstuvwxyz\":\n",
    "                i = (ord(i) - 97 - j)\n",
    "                i = chr(i%26 + 97)\n",
    "        \n",
    "            if i in \"ABCDEFGHIJKLMNOPQRSTUVWXYZ\":\n",
    "                i = (ord(i) - 65 - j)\n",
    "                i = chr(i%26 + 65)\n",
    "            uncodedPhrase = uncodedPhrase + i\n",
    "        finalPhrase.append(uncodedPhrase)\n",
    "    return finalPhrase"
   ]
  },
  {
   "cell_type": "code",
   "execution_count": 13,
   "metadata": {},
   "outputs": [
    {
     "name": "stdout",
     "output_type": "stream",
     "text": [
      "Key: A / 0     Tai ygot iaap oagxp m iaapotgow otgow ur m iaapotgow oagxp otgow iaap?\n",
      "Key: B / 1     Szh xfns hzzo nzfwo l hzzonsfnv nsfnv tq l hzzonsfnv nzfwo nsfnv hzzo?\n",
      "Key: C / 2     Ryg wemr gyyn myevn k gyynmremu mremu sp k gyynmremu myevn mremu gyyn?\n",
      "Key: D / 3     Qxf vdlq fxxm lxdum j fxxmlqdlt lqdlt ro j fxxmlqdlt lxdum lqdlt fxxm?\n",
      "Key: E / 4     Pwe uckp ewwl kwctl i ewwlkpcks kpcks qn i ewwlkpcks kwctl kpcks ewwl?\n",
      "Key: F / 5     Ovd tbjo dvvk jvbsk h dvvkjobjr jobjr pm h dvvkjobjr jvbsk jobjr dvvk?\n",
      "Key: G / 6     Nuc sain cuuj iuarj g cuujinaiq inaiq ol g cuujinaiq iuarj inaiq cuuj?\n",
      "Key: H / 7     Mtb rzhm btti htzqi f bttihmzhp hmzhp nk f bttihmzhp htzqi hmzhp btti?\n",
      "Key: I / 8     Lsa qygl assh gsyph e asshglygo glygo mj e asshglygo gsyph glygo assh?\n",
      "Key: J / 9     Krz pxfk zrrg frxog d zrrgfkxfn fkxfn li d zrrgfkxfn frxog fkxfn zrrg?\n",
      "Key: K / 10     Jqy owej yqqf eqwnf c yqqfejwem ejwem kh c yqqfejwem eqwnf ejwem yqqf?\n",
      "Key: L / 11     Ipx nvdi xppe dpvme b xppedivdl divdl jg b xppedivdl dpvme divdl xppe?\n",
      "Key: M / 12     How much wood could a woodchuck chuck if a woodchuck could chuck wood?\n",
      "Key: N / 13     Gnv ltbg vnnc bntkc z vnncbgtbj bgtbj he z vnncbgtbj bntkc bgtbj vnnc?\n",
      "Key: O / 14     Fmu ksaf ummb amsjb y ummbafsai afsai gd y ummbafsai amsjb afsai ummb?\n",
      "Key: P / 15     Elt jrze tlla zlria x tllazerzh zerzh fc x tllazerzh zlria zerzh tlla?\n",
      "Key: Q / 16     Dks iqyd skkz ykqhz w skkzydqyg ydqyg eb w skkzydqyg ykqhz ydqyg skkz?\n",
      "Key: R / 17     Cjr hpxc rjjy xjpgy v rjjyxcpxf xcpxf da v rjjyxcpxf xjpgy xcpxf rjjy?\n",
      "Key: S / 18     Biq gowb qiix wiofx u qiixwbowe wbowe cz u qiixwbowe wiofx wbowe qiix?\n",
      "Key: T / 19     Ahp fnva phhw vhnew t phhwvanvd vanvd by t phhwvanvd vhnew vanvd phhw?\n",
      "Key: U / 20     Zgo emuz oggv ugmdv s oggvuzmuc uzmuc ax s oggvuzmuc ugmdv uzmuc oggv?\n",
      "Key: V / 21     Yfn dlty nffu tflcu r nffutyltb tyltb zw r nffutyltb tflcu tyltb nffu?\n",
      "Key: W / 22     Xem cksx meet sekbt q meetsxksa sxksa yv q meetsxksa sekbt sxksa meet?\n",
      "Key: X / 23     Wdl bjrw ldds rdjas p lddsrwjrz rwjrz xu p lddsrwjrz rdjas rwjrz ldds?\n",
      "Key: Y / 24     Vck aiqv kccr qcizr o kccrqviqy qviqy wt o kccrqviqy qcizr qviqy kccr?\n"
     ]
    }
   ],
   "source": [
    "finalPhrase = decryptFunction(encodedPhrase)\n",
    "for j in range(0,25):\n",
    "    print('Key:', chr(j+65) ,'/',j, \"   \", finalPhrase[j])"
   ]
  },
  {
   "cell_type": "code",
   "execution_count": null,
   "metadata": {},
   "outputs": [],
   "source": []
  },
  {
   "cell_type": "code",
   "execution_count": null,
   "metadata": {},
   "outputs": [],
   "source": [
    "encodedPhrase = input('Phrase to Decrypt: ')\n",
    "#encodedPhrase = \"Rbqsa Adywxj: (Qvjuh dejysydw jxqj xu xqi de bycri buvj) Qbb hywxj, mu'bb sqbb yj q thqm.\"\n",
    "#encodedPhrase = \"Hjrrthh xh cdi uxcpa, upxajgt xh cdi upipa: xi xh iwt rdjgpvt id rdcixcjt iwpi rdjcih.\"\n",
    "#encodedPhrase = \"KHOOR ZRUOG\""
   ]
  },
  {
   "cell_type": "code",
   "execution_count": 24,
   "metadata": {},
   "outputs": [
    {
     "name": "stdout",
     "output_type": "stream",
     "text": [
      "Key: A / 0      Lro elklo abcbka tb tfii cfdeq ql qeb bka clo LEFL!\n",
      "Key: B / 1      Kqn dkjkn zabajz sa sehh becdp pk pda ajz bkn KDEK!\n",
      "Key: C / 2      Jpm cjijm yzaziy rz rdgg adbco oj ocz ziy ajm JCDJ!\n",
      "Key: D / 3      Iol bihil xyzyhx qy qcff zcabn ni nby yhx zil IBCI!\n",
      "Key: E / 4      Hnk ahghk wxyxgw px pbee ybzam mh max xgw yhk HABH!\n",
      "Key: F / 5      Gmj zgfgj vwxwfv ow oadd xayzl lg lzw wfv xgj GZAG!\n",
      "Key: G / 6      Fli yfefi uvwveu nv nzcc wzxyk kf kyv veu wfi FYZF!\n",
      "Key: H / 7      Ekh xedeh tuvudt mu mybb vywxj je jxu udt veh EXYE!\n",
      "Key: I / 8      Djg wdcdg stutcs lt lxaa uxvwi id iwt tcs udg DWXD!\n",
      "Key: J / 9      Cif vcbcf rstsbr ks kwzz twuvh hc hvs sbr tcf CVWC!\n",
      "Key: K / 10      Bhe ubabe qrsraq jr jvyy svtug gb gur raq sbe BUVB!\n",
      "Key: L / 11      Agd tazad pqrqzp iq iuxx rustf fa ftq qzp rad ATUA!\n",
      "Key: M / 12      Zfc szyzc opqpyo hp htww qtrse ez esp pyo qzc ZSTZ!\n",
      "Key: N / 13      Yeb ryxyb nopoxn go gsvv psqrd dy dro oxn pyb YRSY!\n",
      "Key: O / 14      Xda qxwxa mnonwm fn fruu orpqc cx cqn nwm oxa XQRX!\n",
      "Key: P / 15      Wcz pwvwz lmnmvl em eqtt nqopb bw bpm mvl nwz WPQW!\n",
      "Key: Q / 16      Vby ovuvy klmluk dl dpss mpnoa av aol luk mvy VOPV!\n",
      "Key: R / 17      Uax nutux jklktj ck corr lomnz zu znk ktj lux UNOU!\n",
      "Key: S / 18      Tzw mtstw ijkjsi bj bnqq knlmy yt ymj jsi ktw TMNT!\n",
      "Key: T / 19      Syv lsrsv hijirh ai ampp jmklx xs xli irh jsv SLMS!\n",
      "Key: U / 20      Rxu krqru ghihqg zh zloo iljkw wr wkh hqg iru RKLR!\n",
      "Key: V / 21      Qwt jqpqt fghgpf yg yknn hkijv vq vjg gpf hqt QJKQ!\n",
      "Key: W / 22      Pvs ipops efgfoe xf xjmm gjhiu up uif foe gps PIJP!\n",
      "Key: X / 23      Our honor defend we will fight to the end for OHIO!\n",
      "Key: Y / 24      Ntq gnmnq cdedmc vd vhkk ehfgs sn sgd dmc enq NGHN!\n"
     ]
    }
   ],
   "source": [
    "finalPhrase = decryptFunction(encodedPhrase)\n",
    "for j in range(0,25):\n",
    "    print('Key:', chr(j+65) ,'/',j, \"   \", finalPhrase[j])"
   ]
  },
  {
   "cell_type": "code",
   "execution_count": 25,
   "metadata": {},
   "outputs": [
    {
     "name": "stdout",
     "output_type": "stream",
     "text": [
      "Decryption Key Number Code: 23\n",
      "Encrypted Phrase:     Lro elklo abcbka tb tfii cfdeq ql qeb bka clo LEFL!\n",
      "Decrypted Phrase:   Our honor defend we will fight to the end for OHIO!\n"
     ]
    }
   ],
   "source": [
    "keyNum = int(input('Decryption Key Number Code: '))\n",
    "print ('Encrypted Phrase:   ', encodedPhrase)\n",
    "print ('Decrypted Phrase: ', finalPhrase[(keyNum)])"
   ]
  },
  {
   "cell_type": "code",
   "execution_count": null,
   "metadata": {},
   "outputs": [],
   "source": []
  },
  {
   "cell_type": "code",
   "execution_count": null,
   "metadata": {},
   "outputs": [],
   "source": [
    "# Converting encodedPhrase to lowercase\n",
    "encodedPhrase = str.lower(encodedPhrase)\n",
    "print(encodedPhrase)"
   ]
  },
  {
   "cell_type": "code",
   "execution_count": null,
   "metadata": {},
   "outputs": [],
   "source": [
    "def char_frequency(str1):\n",
    "    dict = {}\n",
    "    phraseChr = 0\n",
    "    for n in str1:\n",
    "        keys = dict.keys()\n",
    "        if n in \"abcdefghijklmnopqrstuvwxyz\":\n",
    "            phraseChr += 1\n",
    "            if n in keys:\n",
    "                dict[n] += 1\n",
    "            else:\n",
    "                dict[n] = 1\n",
    "    # converting count to frequency\n",
    "    for n in \"abcdefghijklmnopqrstuvwxyz\":\n",
    "        if n in keys:\n",
    "            dict[n] = round((dict[n] / phraseChr),4)\n",
    "        else:\n",
    "            dict[n] = 0\n",
    "    return dict"
   ]
  },
  {
   "cell_type": "code",
   "execution_count": null,
   "metadata": {},
   "outputs": [],
   "source": [
    "# Determining Frequency of character appearance in encrypted phrase\n",
    "encodedFreq = char_frequency(encodedPhrase)\n",
    "#print(encodedFreq)\n",
    "df = pd.DataFrame([encodedFreq], columns=encodedFreq.keys())\n",
    "df.head()"
   ]
  },
  {
   "cell_type": "code",
   "execution_count": null,
   "metadata": {},
   "outputs": [],
   "source": [
    "# frequency distribution table for the English language\n",
    "distrib = [8.2,1.5,2.8,4.3,12.7,2.2,2.0,6.1,7.0,0.2,0.8,4.0,2.4,6.7,\n",
    "            7.5,1.9,0.1,6.0,6.3,9.1,2.8,1.0,2.4,0.2,2.0,0.1]"
   ]
  },
  {
   "cell_type": "code",
   "execution_count": null,
   "metadata": {},
   "outputs": [],
   "source": [
    "# Creating Chi value for each combinatoin of cipher and plain text frequencies\n",
    "#multiplying frequency of encrypted text with frequency of letter in English language\n",
    "chi = np.zeros(shape=(26,2))\n",
    "for i in range(0,26):\n",
    "    accumulator = 0\n",
    "    for n in \"abcdefghijklmnopqrstuvwxyz\":\n",
    "        accumulator += df[n] * ((distrib[((ord(n)-97)-i)%26])/100)\n",
    "    chi[i,0] = i\n",
    "    chi[i,1] = round(accumulator, 5)"
   ]
  },
  {
   "cell_type": "code",
   "execution_count": null,
   "metadata": {},
   "outputs": [],
   "source": [
    "chi_df = pd.DataFrame(chi)\n",
    "chi_df.columns = ['Key', 'Correlation']\n",
    "chi_df['Key'] = chi_df.Key.astype(int)\n",
    "#chi_df.dtypes\n",
    "#chi_df.head()"
   ]
  },
  {
   "cell_type": "code",
   "execution_count": null,
   "metadata": {},
   "outputs": [],
   "source": [
    "for i in range(0,26):\n",
    "    print(\"Correlation for Offset\",chi_df.Key[i],\"/\", chr(chi_df.Key[i]+65),\" is \",chi_df.Correlation[i])"
   ]
  },
  {
   "cell_type": "code",
   "execution_count": null,
   "metadata": {},
   "outputs": [],
   "source": [
    "keyNum = int(input('Decryption Key Number Code: '))\n",
    "finalPhrase = decryptFunction(encodedPhrase)\n",
    "print ('Encoded Phrase:   ', encodedPhrase)\n",
    "print ('Decrypted Phrase: ', finalPhrase[(keyNum)])"
   ]
  }
 ],
 "metadata": {
  "kernelspec": {
   "display_name": "Python 3",
   "language": "python",
   "name": "python3"
  },
  "language_info": {
   "codemirror_mode": {
    "name": "ipython",
    "version": 3
   },
   "file_extension": ".py",
   "mimetype": "text/x-python",
   "name": "python",
   "nbconvert_exporter": "python",
   "pygments_lexer": "ipython3",
   "version": "3.6.4"
  }
 },
 "nbformat": 4,
 "nbformat_minor": 2
}
